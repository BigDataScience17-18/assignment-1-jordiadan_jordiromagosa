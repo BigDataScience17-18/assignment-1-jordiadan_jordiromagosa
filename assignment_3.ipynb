{
 "cells": [
  {
   "cell_type": "markdown",
   "metadata": {
    "collapsed": true
   },
   "source": [
    "# Assignment 3 - Clustering town councils\n",
    "\n",
    "The **objective of the assignment** is to find the best way to cluster the town councils, based on the budgets.\n"
   ]
  },
  {
   "cell_type": "markdown",
   "metadata": {},
   "source": [
    "## Data Investigation\n",
    "\n",
    "To prepare and investigate the data, there are several things that can be used, for example:\n",
    "\n",
    "- How many town councils there are?\n",
    "\n",
    "- Are there any budgets with value 0?\n",
    "\n",
    "- What's the relation of of each level (Nivell) and the budget (Import)?\n",
    "\n",
    "- What are the town councils that had positive/negative balance? (more spent than income)\n",
    "\n",
    "- Is there any relation between the screen code (Codi pantalla) and the level (Nivell)?\n",
    "\n",
    "- Do all the town councils use the same amount of levels (Nivell)? And do some of them use more general (less specific) levels than the others?\n",
    "\n",
    "- Do the town councils use the same descriptions (Descripcio) in the different budgets? And do the descriptions (Descripcions) have a relation with the levels (Nivell)?\n"
   ]
  },
  {
   "cell_type": "markdown",
   "metadata": {},
   "source": [
    "## Clustering ideas to explore or try\n",
    "\n",
    "- Use the rows with the same level (Nivell) regardless of any other value. Does the result make any sense?\n",
    "- Cluster the town councils using a new column that days if the balance is positive or negative.\n",
    "- Will we get the same amount of clusters than different levels (Nivell) if we use the column screen code (Codi pantalla) for the clustering?\n",
    "- Some of the previous clusterings can be used for geolocalization? Ex. giving the zone where the cluster is found."
   ]
  },
  {
   "cell_type": "code",
   "execution_count": null,
   "metadata": {},
   "outputs": [],
   "source": []
  }
 ],
 "metadata": {
  "kernelspec": {
   "display_name": "Python 3",
   "language": "python",
   "name": "python3"
  },
  "language_info": {
   "codemirror_mode": {
    "name": "ipython",
    "version": 3
   },
   "file_extension": ".py",
   "mimetype": "text/x-python",
   "name": "python",
   "nbconvert_exporter": "python",
   "pygments_lexer": "ipython3",
   "version": "3.6.4"
  }
 },
 "nbformat": 4,
 "nbformat_minor": 1
}
