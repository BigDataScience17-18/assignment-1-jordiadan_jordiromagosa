{
 "cells": [
  {
   "cell_type": "markdown",
   "metadata": {},
   "source": [
    "# Assignment 1\n",
    "\n",
    "### Authors\n",
    "* Jordi Mellado Romagosa \n",
    "* Jordi Adan Domínguez\n",
    "\n",
    "## 3 Step: Data adquisition\n",
    "**How to load the data?**\n",
    "\n",
    "To load the data, we are using the web crawling technique, using the library called Scrapy. Once the first URL is introduced, all files are extracted into the pc, and once they are downloaded, the extracted files are again processed to obtain the actual contents of the raw data.\n",
    "\n",
    "**Another important concern is how to save the data once read it?**\n",
    "\n",
    "Once the extraction is done, for each individual, we obtain a folder and inside this folder, there are the files that contain the readings for each repetition. No name change is done, thus is easy to identify the alcoholic and non-alcoholic users looking at the folder name. This is useful if later we want to use the data from a specific user or user-type.\n",
    "\n",
    "**In which format the data needs to be kept?**\n",
    "\n",
    "The data is extracted in the same format as the original data. After the extraction, we process the files in each folder into another folder called “results”. In this folder, one file is prepared for every user, containing the same data that the downloaded file but it is ready for process. Each line in this file has the following data and in this strict order: user id, alcoholic/non-alcoholic, experiment type, experiment repetition, channel and finally the 256 readings.\n",
    "\n",
    "**How many data we want to deal with?**\n",
    "\n",
    "We prepare the full data for later use at the time of the downloading. But because of the big bunch of data it’s unrealistically to use all at the same time. So we plan on using random files from alcoholic/non-alcoholic to see if there is a difference between them, and also examine some individuals readings without any other reference to see if there is a difference between experiments and repetitions of the same experiment.\n",
    "\n",
    "## 4 Step: Data Exploration\n",
    "**Do you detect any problem with your data?**\n",
    "Yes. The first problem we detect is that there are some users that have the same ID, only changing if they are alcoholic or non-alcoholic or being identical between them. So we can’t believe any data that we can obtain from this files.\n",
    "\n",
    "**Are there any outliers?**\n",
    "\n",
    "**Do the users have the same number of samples?**\n",
    "\n",
    "No, some users don’t have the full set of samples. We will have to work taking this into consideration, but having different number of samples doesn’t mean that the data is wrong. "
   ]
  },
  {
   "cell_type": "markdown",
   "metadata": {},
   "source": [
    "### 4.1. Exercise 1 Represent the 'FP1' channel (first one). Be sure to correctly specify axis."
   ]
  },
  {
   "cell_type": "code",
   "execution_count": 43,
   "metadata": {},
   "outputs": [],
   "source": [
    "import plotly.graph_objs as go\n",
    "from plotly.graph_objs import *\n",
    "\n",
    "# Layout with common style for the graphs\n",
    "def getLayout(exerecise_name):\n",
    "    layout = go.Layout(\n",
    "        title=exerecise_name,\n",
    "        xaxis=dict(\n",
    "            title='Time (ms)'\n",
    "        ),\n",
    "        yaxis=dict(\n",
    "            title='Voltage (µV)'\n",
    "        )   \n",
    "    )\n",
    "    return layout"
   ]
  },
  {
   "cell_type": "code",
   "execution_count": 44,
   "metadata": {},
   "outputs": [
    {
     "data": {
      "text/html": [
       "<iframe id=\"igraph\" scrolling=\"no\" style=\"border:none;\" seamless=\"seamless\" src=\"https://plot.ly/~x2799830/13.embed\" height=\"525px\" width=\"100%\"></iframe>"
      ],
      "text/plain": [
       "<plotly.tools.PlotlyDisplay object>"
      ]
     },
     "execution_count": 44,
     "metadata": {},
     "output_type": "execute_result"
    }
   ],
   "source": [
    "import plotly.plotly as py\n",
    "import plotly\n",
    "import pandas as pd\n",
    "import numpy as np\n",
    "\n",
    "# This line is needed to plot results on plot.ly\n",
    "plotly.tools.set_credentials_file(username='x2799830', api_key='R0ETv9zOSa7Hkc3t2Q0p')\n",
    "# Read data file\n",
    "df = pd.read_csv(\"results/co2a0000364.txt\", sep=\" \", lineterminator=\"\\n\", header=None)\n",
    "# Remove the first five columns, like subject id, channel number...\n",
    "df.drop(df.columns[[0, 1, 2, 3, 4]], axis=1, inplace=True)\n",
    "\n",
    "voltage = np.array(df.values)[0]\n",
    "time = np.array(df.columns.values, dtype=float)\n",
    "for i in range(0, len(time)):\n",
    "    time[i] = (time[i] - 4) * 3.906\n",
    "\n",
    "df.columns = time\n",
    "\n",
    "# Create a bar graph\n",
    "data = [go.Bar(\n",
    "    x = time,\n",
    "    y = voltage\n",
    ")]\n",
    "\n",
    "# Plot the graph\n",
    "fig = go.Figure(data=data, layout=getLayout(\"Exercise 1\"))\n",
    "py.iplot(fig, filename='Exercise1')"
   ]
  },
  {
   "cell_type": "markdown",
   "metadata": {},
   "source": [
    "### 4.2. Exercise 2 Represent the 'FP1' channel (first one) as well as the next 3"
   ]
  },
  {
   "cell_type": "code",
   "execution_count": 45,
   "metadata": {},
   "outputs": [
    {
     "data": {
      "text/html": [
       "<iframe id=\"igraph\" scrolling=\"no\" style=\"border:none;\" seamless=\"seamless\" src=\"https://plot.ly/~x2799830/11.embed\" height=\"525px\" width=\"100%\"></iframe>"
      ],
      "text/plain": [
       "<plotly.tools.PlotlyDisplay object>"
      ]
     },
     "execution_count": 45,
     "metadata": {},
     "output_type": "execute_result"
    }
   ],
   "source": [
    "voltage = np.array(df.values)\n",
    "\n",
    "# Create traces\n",
    "trace0 = go.Scatter(\n",
    "    x=time,\n",
    "    y=voltage[0],\n",
    "    mode='lines',\n",
    "    name='FP1 - Channel 0'\n",
    ")\n",
    "\n",
    "trace1 = go.Scatter(\n",
    "    x=time,\n",
    "    y=voltage[1],\n",
    "    mode='lines',\n",
    "    name='FP2 - Channel 1'\n",
    ")\n",
    "\n",
    "trace2 = go.Scatter(\n",
    "    x=time,\n",
    "    y=voltage[2],\n",
    "    mode='lines',\n",
    "    name='F7 - Channel 2'\n",
    ")\n",
    "\n",
    "trace3 = go.Scatter(\n",
    "    x=time,\n",
    "    y=voltage[3],\n",
    "    mode='lines',\n",
    "    name='F8 - Channel 3'\n",
    ")\n",
    "\n",
    "data = [trace0, trace1, trace2, trace3]\n",
    "\n",
    "# Plot the graph\n",
    "fig = go.Figure(data=data, layout=getLayout(\"Exercise 2\"))\n",
    "py.iplot(fig, filename='Exercise2')"
   ]
  },
  {
   "cell_type": "markdown",
   "metadata": {},
   "source": [
    "### 4.3. Exercise 3 (optional) Represent all 64 channels"
   ]
  },
  {
   "cell_type": "code",
   "execution_count": 46,
   "metadata": {},
   "outputs": [
    {
     "data": {
      "text/html": [
       "<iframe id=\"igraph\" scrolling=\"no\" style=\"border:none;\" seamless=\"seamless\" src=\"https://plot.ly/~x2799830/15.embed\" height=\"525px\" width=\"100%\"></iframe>"
      ],
      "text/plain": [
       "<plotly.tools.PlotlyDisplay object>"
      ]
     },
     "execution_count": 46,
     "metadata": {},
     "output_type": "execute_result"
    }
   ],
   "source": [
    "data = [\n",
    "    go.Surface(\n",
    "        z=df.as_matrix()\n",
    "    )\n",
    "]\n",
    "\n",
    "layout = go.Layout(\n",
    "    title='Exercise 3',\n",
    "    autosize=True,\n",
    "    scene=Scene(\n",
    "        xaxis=XAxis(title='Repetition'),\n",
    "        yaxis=YAxis(title='Channel'),\n",
    "        zaxis=ZAxis(title='Voltage (µV)'),\n",
    "    )\n",
    "\n",
    ")\n",
    "\n",
    "fig = go.Figure(data=data, layout=layout)\n",
    "py.iplot(fig, filename='Exercise3')"
   ]
  },
  {
   "cell_type": "markdown",
   "metadata": {},
   "source": [
    "### 4.4. Are there any outliers? First you need to define what is an outlier?\n",
    "An outlier is some data that is much bigger or smaller than the nearest data point. In the data we have explored, there isn’t any outlier."
   ]
  },
  {
   "cell_type": "markdown",
   "metadata": {},
   "source": [
    "## 5 Step: Data Cleaning, Data Transformation and Reporting\n",
    "**Why data can’t be Clean at first?**\n",
    "\n",
    "Because there are always invalid values, non-answered values and some values that are outliers and must be ignored.\n",
    "\n",
    "**Is our data in a tidy format?**\n",
    "\n",
    "Originally, no. But after the processing we mentioned early, we have the data ready for interpretation. The only thing that is missing is removing outliers and any noise.\n"
   ]
  },
  {
   "cell_type": "markdown",
   "metadata": {},
   "source": [
    "\n",
    "**Exercise: Clean the Data Set to Avoid Excessive Noise**"
   ]
  },
  {
   "cell_type": "code",
   "execution_count": 47,
   "metadata": {},
   "outputs": [
    {
     "data": {
      "text/plain": [
       "array([[-0.4485845 , -0.42404586, -0.12943129, ...,  0.21431086,\n",
       "         0.28797707,  0.41077086],\n",
       "       [ 0.03368336,  0.13231018,  0.23089661, ...,  0.11256058,\n",
       "         0.38865105,  0.52669628],\n",
       "       [-0.63160742, -0.39849792,  0.03656557, ...,  0.22305318,\n",
       "         0.36288706,  0.40950896],\n",
       "       ..., \n",
       "       [-0.08883107, -0.17952054, -0.17952054, ...,  0.81862107,\n",
       "         0.72774577,  0.54636685],\n",
       "       [-0.44710669, -0.39803094, -0.15280289, ...,  0.2396524 ,\n",
       "         0.31324091,  0.43585493],\n",
       "       [-0.23337474, -0.11204969,  0.06993789, ...,  0.65627329,\n",
       "         0.67648033,  0.61581781]])"
      ]
     },
     "execution_count": 47,
     "metadata": {},
     "output_type": "execute_result"
    }
   ],
   "source": [
    "from numpy.linalg import norm\n",
    "\n",
    "X = df.as_matrix()\n",
    "linfnorm = norm(X, axis=1, ord=np.inf)\n",
    "X.astype(np.float) / linfnorm[:,None]"
   ]
  },
  {
   "cell_type": "markdown",
   "metadata": {},
   "source": [
    "**Exercise: Transform the Data Set to get additional Insights**\n",
    "\n",
    "    Obtain the quantiles\n"
   ]
  },
  {
   "cell_type": "code",
   "execution_count": 48,
   "metadata": {},
   "outputs": [],
   "source": [
    "first = df.quantile(.25)\n",
    "second = df.quantile(.5)\n",
    "third = df.quantile(.75)"
   ]
  },
  {
   "cell_type": "code",
   "execution_count": 49,
   "metadata": {},
   "outputs": [
    {
     "data": {
      "text/plain": [
       "3.906     -6.36025\n",
       "7.812     -7.09000\n",
       "11.718    -4.54175\n",
       "15.624    -3.83025\n",
       "19.530    -1.32225\n",
       "23.436     0.09675\n",
       "27.342     0.69700\n",
       "31.248     0.41200\n",
       "35.154    -1.22350\n",
       "39.060    -2.27575\n",
       "42.966    -3.62375\n",
       "46.872    -3.39550\n",
       "50.778    -1.73450\n",
       "54.684    -0.88000\n",
       "58.590    -0.97950\n",
       "62.496    -2.44375\n",
       "66.402    -3.90900\n",
       "70.308    -3.25750\n",
       "74.214    -3.62425\n",
       "78.120    -2.99075\n",
       "82.026    -2.01450\n",
       "85.932    -2.28850\n",
       "89.838    -3.11250\n",
       "93.744    -2.52300\n",
       "97.650    -0.59025\n",
       "101.556    0.07350\n",
       "105.462    0.55950\n",
       "109.368    0.79350\n",
       "113.274   -2.51300\n",
       "117.180   -4.50100\n",
       "            ...   \n",
       "886.662   -2.91675\n",
       "890.568   -1.52600\n",
       "894.474    0.61825\n",
       "898.380    2.06525\n",
       "902.286    1.15725\n",
       "906.192   -0.86700\n",
       "910.098   -2.43650\n",
       "914.004   -2.39575\n",
       "917.910   -1.92025\n",
       "921.816   -1.32725\n",
       "925.722   -0.97950\n",
       "929.628   -0.90525\n",
       "933.534   -1.00225\n",
       "937.440   -0.09150\n",
       "941.346   -0.17825\n",
       "945.252   -0.22925\n",
       "949.158    0.80875\n",
       "953.064    0.42700\n",
       "956.970    0.54650\n",
       "960.876    1.34050\n",
       "964.782    1.41925\n",
       "968.688    0.92075\n",
       "972.594    0.55150\n",
       "976.500    0.23925\n",
       "980.406   -0.87750\n",
       "984.312   -0.48075\n",
       "988.218   -0.42725\n",
       "992.124   -0.18550\n",
       "996.030   -0.27975\n",
       "999.936   -0.25675\n",
       "Name: 0.25, Length: 256, dtype: float64"
      ]
     },
     "execution_count": 49,
     "metadata": {},
     "output_type": "execute_result"
    }
   ],
   "source": [
    "first"
   ]
  },
  {
   "cell_type": "code",
   "execution_count": 50,
   "metadata": {},
   "outputs": [
    {
     "data": {
      "text/plain": [
       "3.906     -2.3805\n",
       "7.812     -2.7975\n",
       "11.718    -1.6275\n",
       "15.624    -0.7530\n",
       "19.530     1.4545\n",
       "23.436     2.9045\n",
       "27.342     3.3110\n",
       "31.248     2.6040\n",
       "35.154     1.4035\n",
       "39.060    -0.5340\n",
       "42.966    -2.1970\n",
       "46.872    -1.0070\n",
       "50.778     0.4730\n",
       "54.684     1.5310\n",
       "58.590     0.5745\n",
       "62.496    -0.9310\n",
       "66.402    -0.4425\n",
       "70.308    -0.4980\n",
       "74.214    -0.0255\n",
       "78.120    -0.3410\n",
       "82.026     0.2545\n",
       "85.932    -0.0560\n",
       "89.838    -0.5850\n",
       "93.744     2.4360\n",
       "97.650     3.3825\n",
       "101.556    3.9625\n",
       "105.462    3.3165\n",
       "109.368    2.7870\n",
       "113.274    0.5035\n",
       "117.180   -1.2920\n",
       "            ...  \n",
       "886.662    2.5585\n",
       "890.568    2.6905\n",
       "894.474    3.7235\n",
       "898.380    3.9930\n",
       "902.286    2.5480\n",
       "906.192    1.5155\n",
       "910.098    0.1885\n",
       "914.004    1.2205\n",
       "917.910    1.4140\n",
       "921.816    0.8240\n",
       "925.722    2.1110\n",
       "929.628    1.5510\n",
       "933.534    2.1210\n",
       "937.440    3.1535\n",
       "941.346    2.9905\n",
       "945.252    3.5150\n",
       "949.158    2.6805\n",
       "953.064    3.1585\n",
       "956.970    3.0365\n",
       "960.876    3.7180\n",
       "964.782    3.9770\n",
       "968.688    3.5905\n",
       "972.594    2.9805\n",
       "976.500    2.1210\n",
       "980.406    1.3530\n",
       "984.312    1.1750\n",
       "988.218    0.8085\n",
       "992.124    1.3325\n",
       "996.030    1.5055\n",
       "999.936    2.4770\n",
       "Name: 0.5, Length: 256, dtype: float64"
      ]
     },
     "execution_count": 50,
     "metadata": {},
     "output_type": "execute_result"
    }
   ],
   "source": [
    "second"
   ]
  },
  {
   "cell_type": "code",
   "execution_count": 51,
   "metadata": {},
   "outputs": [
    {
     "data": {
      "text/plain": [
       "3.906      0.49825\n",
       "7.812      0.14975\n",
       "11.718     0.37150\n",
       "15.624     1.68900\n",
       "19.530     4.66150\n",
       "23.436     7.52000\n",
       "27.342     8.41000\n",
       "31.248     5.75775\n",
       "35.154     3.78950\n",
       "39.060     2.26850\n",
       "42.966     0.99950\n",
       "46.872     1.49775\n",
       "50.778     1.72150\n",
       "54.684     3.23500\n",
       "58.590     2.94275\n",
       "62.496     2.29400\n",
       "66.402     2.53300\n",
       "70.308     1.38375\n",
       "74.214     1.36800\n",
       "78.120     1.58700\n",
       "82.026     3.01125\n",
       "85.932     2.50225\n",
       "89.838     2.95275\n",
       "93.744     5.66375\n",
       "97.650     6.93275\n",
       "101.556    6.82050\n",
       "105.462    6.72900\n",
       "109.368    4.89825\n",
       "113.274    2.72150\n",
       "117.180    1.23625\n",
       "            ...   \n",
       "886.662    6.84875\n",
       "890.568    7.33175\n",
       "894.474    8.29050\n",
       "898.380    7.83250\n",
       "902.286    6.03750\n",
       "906.192    5.38350\n",
       "910.098    6.28900\n",
       "914.004    8.65700\n",
       "917.910    8.01075\n",
       "921.816    7.89125\n",
       "925.722    7.85075\n",
       "929.628    5.68125\n",
       "933.534    5.37875\n",
       "937.440    4.53975\n",
       "941.346    6.58950\n",
       "945.252    6.74950\n",
       "949.158    7.65725\n",
       "953.064    8.32400\n",
       "956.970    9.71950\n",
       "960.876    9.69700\n",
       "964.782    8.96225\n",
       "968.688    9.51100\n",
       "972.594    7.29150\n",
       "976.500    4.24675\n",
       "980.406    3.01575\n",
       "984.312    3.49425\n",
       "988.218    4.10475\n",
       "992.124    5.56675\n",
       "996.030    6.99850\n",
       "999.936    7.75650\n",
       "Name: 0.75, Length: 256, dtype: float64"
      ]
     },
     "execution_count": 51,
     "metadata": {},
     "output_type": "execute_result"
    }
   ],
   "source": [
    "third"
   ]
  },
  {
   "cell_type": "markdown",
   "metadata": {},
   "source": [
    "    Obtain AR coefficients (Optional) \n",
    "    Obtain DCT coefficients (Optional) \n",
    "    Obtain PCA components (Optional) "
   ]
  },
  {
   "cell_type": "markdown",
   "metadata": {},
   "source": [
    "Optional: Try to figure out what dirty data can you find in a general data set.\n",
    "\n",
    "Exercise: Transform the Data Set to get additional Insights \n",
    "Obtain the quantiles\n",
    "\n"
   ]
  }
 ],
 "metadata": {
  "kernelspec": {
   "display_name": "Python 3",
   "language": "python",
   "name": "python3"
  },
  "language_info": {
   "codemirror_mode": {
    "name": "ipython",
    "version": 3
   },
   "file_extension": ".py",
   "mimetype": "text/x-python",
   "name": "python",
   "nbconvert_exporter": "python",
   "pygments_lexer": "ipython3",
   "version": "3.6.3"
  }
 },
 "nbformat": 4,
 "nbformat_minor": 2
}
