{
 "cells": [
  {
   "cell_type": "markdown",
   "metadata": {
    "collapsed": true
   },
   "source": []
  },
  {
   "cell_type": "markdown",
   "metadata": {},
   "source": [
    "# Assignment 1\n",
    "\n",
    "### Authors\n",
    "* Jordi Mellado Romagosa \n",
    "* Jordi Adan Domínguez\n",
    "\n",
    "## PCA\n",
    "\n",
    "### PCA (with row reduction)\n",
    "\n",
    "columns = ['Min', 'Max', 'Sd', 'Mean', 'Median', 'IQR', 'Q(0.025)', 'Q(0.25)', 'Q(0.75)', 'Q(0.975)']\n",
    "rows = Repetitions"
   ]
  },
  {
   "cell_type": "code",
   "execution_count": null,
   "metadata": {},
   "outputs": [],
   "source": [
    "import pandas as pd\n",
    "from sklearn.preprocessing import StandardScaler\n",
    "from sklearn.decomposition import PCA as sklearnPCA\n",
    "\n",
    "def pca_row_reduction(filename):\n",
    "    \n",
    "    # read data\n",
    "    df = pd.read_csv(filepath_or_buffer='engineered/' + filename,\n",
    "                     header=None,\n",
    "                     sep=\",\")\n",
    "    \n",
    "    df = df.loc[:, [1, 5, 6, 7, 8, 9, 10, 11, 12, 13, 14]]\n",
    "    df.columns = ['Class', 'Min', 'Max', 'Sd', 'Mean', 'Median', 'IQR', 'Q(0.025)', 'Q(0.25)', 'Q(0.75)', 'Q(0.975)']\n",
    "    \n",
    "    # split data table into data X and class labels y\n",
    "    X = df.ix[:, 1:].values\n",
    "    y = df.ix[:, 0].values\n",
    "    \n",
    "    # standardizing data\n",
    "    X_std = StandardScaler().fit_transform(X)\n",
    "    \n",
    "    sklearn_pca = sklearnPCA(svd_solver='auto')\n",
    "    Y_sklearn = sklearn_pca.fit_transform(X_std)\n"
   ]
  },
  {
   "cell_type": "markdown",
   "metadata": {},
   "source": []
  },
  {
   "cell_type": "markdown",
   "metadata": {},
   "source": []
  },
  {
   "cell_type": "markdown",
   "metadata": {},
   "source": []
  },
  {
   "cell_type": "markdown",
   "metadata": {},
   "source": []
  },
  {
   "cell_type": "markdown",
   "metadata": {},
   "source": []
  },
  {
   "cell_type": "code",
   "execution_count": null,
   "metadata": {},
   "outputs": [],
   "source": [
    "def pca_column_reduction(filename):\n",
    "    \n",
    "    # read data\n",
    "    df = pd.read_csv(filepath_or_buffer='engineered/' + filename,\n",
    "                     header=None,\n",
    "                     sep=\",\")\n",
    "    \n",
    "    #df = df.loc[:, [1, 5, 6, 7, 8, 9, 10, 11, 12, 13, 14]]\n",
    "    df.columns = ['Class', 'Min', 'Max', 'Sd', 'Mean', 'Median', 'IQR', 'Q(0.025)', 'Q(0.25)', 'Q(0.75)', 'Q(0.975)']\n",
    "    \n",
    "    # split data table into data X and class labels y\n",
    "    X = df.ix[:, 1:].values\n",
    "    y = df.ix[:, 0].values\n",
    "    \n",
    "    # standardizing data\n",
    "    X_std = StandardScaler().fit_transform(X)\n",
    "    \n",
    "    sklearn_pca = sklearnPCA(svd_solver='auto')\n",
    "    Y_sklearn = sklearn_pca.fit_transform(X_std)"
   ]
  }
 ],
 "metadata": {
  "kernelspec": {
   "display_name": "Python 2",
   "language": "python",
   "name": "python2"
  },
  "language_info": {
   "codemirror_mode": {
    "name": "ipython",
    "version": 2
   },
   "file_extension": ".py",
   "mimetype": "text/x-python",
   "name": "python",
   "nbconvert_exporter": "python",
   "pygments_lexer": "ipython2",
   "version": "2.7.6"
  }
 },
 "nbformat": 4,
 "nbformat_minor": 0
}
